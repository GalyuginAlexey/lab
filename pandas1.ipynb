{
 "cells": [
  {
   "cell_type": "markdown",
   "metadata": {},
   "source": [
    "Московский Авиационный Институт  \n",
    "                                  (Национальный Исследовательский Университет)  \n",
    "\n",
    "\n",
    "\n",
    "Кафедра 806 «Вычислительная математика и программирование»  \n",
    "Институт: «Информационные технологии и прикладная математика»  \n",
    "Дисциплина: «Разработка ПО для высокопроизводительных систем»        \n",
    "\n",
    "\n",
    "\n",
    "                                        -------------------------------\n",
    "                                        Лабораторная работа по pandas №1  \n",
    "                                        -------------------------------    \n",
    "\n",
    "\n",
    "\n",
    "                                                                            Группа: М8О-103М-20  \n",
    "                                                                            Студент: Галюгин Алексей Дмитриевич  \n",
    "                                                                            Преподаватель: Поповкин Александр Викторович  \n",
    "\n",
    "\n",
    "\n",
    "                                                 Москва, 2020  "
   ]
  },
  {
   "cell_type": "markdown",
   "metadata": {},
   "source": [
    "Импортировать модули sys numpy pandas"
   ]
  },
  {
   "cell_type": "code",
   "execution_count": 2,
   "metadata": {},
   "outputs": [],
   "source": [
    "import sys\n",
    "import numpy as np\n",
    "import pandas as pd"
   ]
  },
  {
   "cell_type": "markdown",
   "metadata": {},
   "source": [
    "Создать объект pandas Series из листа, объекта NumPy, и словаря"
   ]
  },
  {
   "cell_type": "code",
   "execution_count": 15,
   "metadata": {},
   "outputs": [
    {
     "name": "stdout",
     "output_type": "stream",
     "text": [
      "0    f\n",
      "1    g\n",
      "2    h\n",
      "3    f\n",
      "4    g\n",
      "5    h\n",
      "dtype: object\n",
      "0    0\n",
      "1    1\n",
      "2    2\n",
      "3    3\n",
      "4    4\n",
      "dtype: int32\n",
      "x    1\n",
      "y    2\n",
      "z    3\n",
      "dtype: int64\n"
     ]
    }
   ],
   "source": [
    "x=list('fghfgh')\n",
    "y=np.arange(5)\n",
    "z={}\n",
    "z={'x': 1, 'y': 2,'z': 3}\n",
    "objx=pd.Series(x)\n",
    "objy=pd.Series(y)\n",
    "objz=pd.Series(z)\n",
    "print(objx)\n",
    "print(objy)\n",
    "print(objz)"
   ]
  },
  {
   "cell_type": "markdown",
   "metadata": {},
   "source": [
    "Преобразовать объект Series в DataFrame"
   ]
  },
  {
   "cell_type": "markdown",
   "metadata": {},
   "source": [
    "создать объект Series"
   ]
  },
  {
   "cell_type": "code",
   "execution_count": 18,
   "metadata": {},
   "outputs": [],
   "source": [
    "z={'a': 1, 'b': 2,'c': 3,'d': 4, 'e': 5}\n",
    "objz=pd.Series(z)"
   ]
  },
  {
   "cell_type": "markdown",
   "metadata": {},
   "source": [
    "преобразовать в DataFrame"
   ]
  },
  {
   "cell_type": "code",
   "execution_count": 16,
   "metadata": {},
   "outputs": [],
   "source": [
    "frame=pd.DataFrame(objz)"
   ]
  },
  {
   "cell_type": "markdown",
   "metadata": {},
   "source": [
    "объединить несколько объектов Series в Dataframe"
   ]
  },
  {
   "cell_type": "code",
   "execution_count": 19,
   "metadata": {},
   "outputs": [
    {
     "name": "stdout",
     "output_type": "stream",
     "text": [
      "a     1\n",
      "b     2\n",
      "c     3\n",
      "d     4\n",
      "e     5\n",
      "f     6\n",
      "g     7\n",
      "h     8\n",
      "k     9\n",
      "l    10\n",
      "dtype: int64\n"
     ]
    }
   ],
   "source": [
    "i={'f': 6, 'g': 7,'h': 8,'k': 9, 'l': 10}\n",
    "obji=pd.Series(i)\n",
    "frame=pd.concat((objz,obji), axis=0)\n",
    "print(frame)"
   ]
  },
  {
   "cell_type": "markdown",
   "metadata": {},
   "source": [
    "Присвоить имя индексу объекта Series"
   ]
  },
  {
   "cell_type": "code",
   "execution_count": 23,
   "metadata": {},
   "outputs": [
    {
     "name": "stdout",
     "output_type": "stream",
     "text": [
      "x    1\n",
      "y    2\n",
      "z    3\n",
      "Name: obiekt, dtype: int64\n"
     ]
    }
   ],
   "source": [
    "z={'x': 1, 'y': 2,'z': 3}\n",
    "obj=pd.Series(z)\n",
    "obj.name='obiekt'\n",
    "print(obj)"
   ]
  },
  {
   "cell_type": "markdown",
   "metadata": {},
   "source": [
    "Получить элементы объекта Series A, которых нет в объекте Series B с индексами"
   ]
  },
  {
   "cell_type": "code",
   "execution_count": 7,
   "metadata": {},
   "outputs": [
    {
     "name": "stdout",
     "output_type": "stream",
     "text": [
      "11    11\n",
      "12    12\n",
      "dtype: int32\n"
     ]
    }
   ],
   "source": [
    "SeriesA=pd.Series(np.arange(13))\n",
    "SeriesB=pd.Series(np.arange(11))\n",
    "x=SeriesA[~SeriesA.isin(SeriesB)]\n",
    "print(x)"
   ]
  },
  {
   "cell_type": "markdown",
   "metadata": {},
   "source": [
    "без индексов"
   ]
  },
  {
   "cell_type": "code",
   "execution_count": 33,
   "metadata": {},
   "outputs": [
    {
     "name": "stdout",
     "output_type": "stream",
     "text": [
      "[11 12]\n"
     ]
    }
   ],
   "source": [
    "y=np.setdiff1d(SeriesA,SeriesB)\n",
    "print(y)"
   ]
  },
  {
   "cell_type": "markdown",
   "metadata": {},
   "source": [
    "Получить не пересекающиеся элементы в двух объектах Series"
   ]
  },
  {
   "cell_type": "markdown",
   "metadata": {},
   "source": [
    "возвратить вместе с индексами"
   ]
  },
  {
   "cell_type": "code",
   "execution_count": 64,
   "metadata": {},
   "outputs": [
    {
     "name": "stdout",
     "output_type": "stream",
     "text": [
      "1     5\n",
      "2     9\n",
      "3     7\n",
      "4    12\n",
      "0     4\n",
      "1     3\n",
      "2    14\n",
      "3    78\n",
      "4     2\n",
      "6     8\n",
      "dtype: int64\n"
     ]
    }
   ],
   "source": [
    "SeriesA=pd.Series([6,5,9,7,12])\n",
    "SeriesB=pd.Series([4,3,14,78,2,6,8])\n",
    "x=pd.concat((SeriesA[~SeriesA.isin(SeriesB)],SeriesB[~SeriesB.isin(SeriesA)]))\n",
    "print(x)"
   ]
  },
  {
   "cell_type": "markdown",
   "metadata": {},
   "source": [
    "получить объединенный Series без повтороений"
   ]
  },
  {
   "cell_type": "code",
   "execution_count": 65,
   "metadata": {},
   "outputs": [
    {
     "name": "stdout",
     "output_type": "stream",
     "text": [
      "0      2\n",
      "1      3\n",
      "2      4\n",
      "3      5\n",
      "4      6\n",
      "5      7\n",
      "6      8\n",
      "7      9\n",
      "8     12\n",
      "9     14\n",
      "10    78\n",
      "dtype: int64\n"
     ]
    }
   ],
   "source": [
    "y=pd.Series(np.union1d(SeriesA,SeriesB))\n",
    "print(y)"
   ]
  },
  {
   "cell_type": "markdown",
   "metadata": {},
   "source": [
    "получить пересекающиеся данные"
   ]
  },
  {
   "cell_type": "code",
   "execution_count": 66,
   "metadata": {},
   "outputs": [
    {
     "name": "stdout",
     "output_type": "stream",
     "text": [
      "0    6\n",
      "dtype: int64\n"
     ]
    }
   ],
   "source": [
    "z=pd.Series(np.intersect1d(SeriesA,SeriesB))\n",
    "print(z)"
   ]
  },
  {
   "cell_type": "markdown",
   "metadata": {},
   "source": [
    "отобрать все данные, кроме пересекающихся"
   ]
  },
  {
   "cell_type": "code",
   "execution_count": 67,
   "metadata": {},
   "outputs": [
    {
     "name": "stdout",
     "output_type": "stream",
     "text": [
      "0      2\n",
      "1      3\n",
      "2      4\n",
      "3      5\n",
      "4      6\n",
      "5      7\n",
      "6      8\n",
      "7      9\n",
      "8     12\n",
      "9     14\n",
      "10    78\n",
      "dtype: int64\n"
     ]
    }
   ],
   "source": [
    "y=pd.Series(np.union1d(SeriesA,SeriesB))\n",
    "print(y)"
   ]
  },
  {
   "cell_type": "markdown",
   "metadata": {},
   "source": [
    "возвратить значения"
   ]
  },
  {
   "cell_type": "code",
   "execution_count": 68,
   "metadata": {},
   "outputs": [
    {
     "name": "stdout",
     "output_type": "stream",
     "text": [
      "[ 2  3  4  5  7  8  9 12 14 78]\n"
     ]
    }
   ],
   "source": [
    "y=np.setxor1d(SeriesA,SeriesB)\n",
    "print(y)"
   ]
  },
  {
   "cell_type": "code",
   "execution_count": null,
   "metadata": {},
   "outputs": [],
   "source": []
  }
 ],
 "metadata": {
  "kernelspec": {
   "display_name": "Python 3",
   "language": "python",
   "name": "python3"
  },
  "language_info": {
   "codemirror_mode": {
    "name": "ipython",
    "version": 3
   },
   "file_extension": ".py",
   "mimetype": "text/x-python",
   "name": "python",
   "nbconvert_exporter": "python",
   "pygments_lexer": "ipython3",
   "version": "3.7.6"
  }
 },
 "nbformat": 4,
 "nbformat_minor": 4
}
