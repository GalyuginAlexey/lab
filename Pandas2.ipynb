{
 "cells": [
  {
   "cell_type": "markdown",
   "metadata": {},
   "source": [
    "Московский Авиационный Институт  \n",
    "                                  (Национальный Исследовательский Университет)  \n",
    "\n",
    "\n",
    "\n",
    "Кафедра 806 «Вычислительная математика и программирование»  \n",
    "Институт: «Информационные технологии и прикладная математика»  \n",
    "Дисциплина: «Разработка ПО для высокопроизводительных систем»        \n",
    "\n",
    "\n",
    "\n",
    "                                        -------------------------------\n",
    "                                        Лабораторная работа по pandas №2  \n",
    "                                        -------------------------------    \n",
    "\n",
    "\n",
    "\n",
    "                                                                            Группа: М8О-103М-20  \n",
    "                                                                            Студент: Галюгин Алексей Дмитриевич  \n",
    "                                                                            Преподаватель: Поповкин Александр Викторович  \n",
    "\n",
    "\n",
    "\n",
    "                                                 Москва, 2020  "
   ]
  },
  {
   "cell_type": "code",
   "execution_count": 2,
   "metadata": {},
   "outputs": [],
   "source": [
    "import sys\n",
    "import numpy as np\n",
    "import pandas as pd"
   ]
  },
  {
   "cell_type": "markdown",
   "metadata": {},
   "source": [
    "Получить от объекта Series показатели описательной статистики"
   ]
  },
  {
   "cell_type": "code",
   "execution_count": 4,
   "metadata": {},
   "outputs": [
    {
     "name": "stdout",
     "output_type": "stream",
     "text": [
      "0     12.483571\n",
      "1      9.308678\n",
      "2     13.238443\n",
      "3     17.615149\n",
      "4      8.829233\n",
      "5      8.829315\n",
      "6     17.896064\n",
      "7     13.837174\n",
      "8      7.652628\n",
      "9     12.712800\n",
      "10     7.682912\n",
      "11     7.671351\n",
      "12    11.209811\n",
      "13     0.433599\n",
      "14     1.375411\n",
      "15     7.188562\n",
      "16     4.935844\n",
      "17    11.571237\n",
      "18     5.459880\n",
      "19     2.938481\n",
      "20    17.328244\n",
      "21     8.871118\n",
      "22    10.337641\n",
      "23     2.876259\n",
      "24     7.278086\n",
      "dtype: float64\n",
      "count    25.000000\n",
      "mean      9.182460\n",
      "std       4.782765\n",
      "min       0.433599\n",
      "25%       7.188562\n",
      "50%       8.829315\n",
      "75%      12.483571\n",
      "max      17.896064\n",
      "dtype: float64\n"
     ]
    }
   ],
   "source": [
    "state = np.random.RandomState(42)\n",
    "x = pd.Series(state.normal(10, 5, 25))\n",
    "print(x)\n",
    "pkz = x.describe()\n",
    "print(pkz)"
   ]
  },
  {
   "cell_type": "markdown",
   "metadata": {},
   "source": [
    "Узнать частоту уникальных элементов объекта Series (гистограмма)"
   ]
  },
  {
   "cell_type": "code",
   "execution_count": 66,
   "metadata": {},
   "outputs": [
    {
     "name": "stdout",
     "output_type": "stream",
     "text": [
      "0     a\n",
      "1     g\n",
      "2     k\n",
      "3     h\n",
      "4     i\n",
      "5     h\n",
      "6     b\n",
      "7     h\n",
      "8     c\n",
      "9     b\n",
      "10    a\n",
      "11    b\n",
      "12    k\n",
      "13    i\n",
      "14    f\n",
      "15    g\n",
      "16    h\n",
      "17    k\n",
      "18    f\n",
      "19    d\n",
      "20    c\n",
      "21    a\n",
      "22    f\n",
      "23    f\n",
      "24    d\n",
      "25    g\n",
      "26    h\n",
      "27    e\n",
      "28    e\n",
      "29    d\n",
      "dtype: object\n",
      "h    5\n",
      "f    4\n",
      "d    3\n",
      "b    3\n",
      "k    3\n",
      "g    3\n",
      "a    3\n",
      "e    2\n",
      "i    2\n",
      "c    2\n",
      "dtype: int64\n"
     ]
    }
   ],
   "source": [
    "data='abcdefghik'\n",
    "len_series=30\n",
    "x=pd.Series(np.take(list(data), np.random.randint(len(data), size=len_series)))\n",
    "print(x) \n",
    "ans=x.value_counts()\n",
    " \n",
    "print(ans)"
   ]
  },
  {
   "cell_type": "markdown",
   "metadata": {},
   "source": [
    "Заменить все элементы объекта Series на \"Other\", кроме двух наиболее часто встречающихся"
   ]
  },
  {
   "cell_type": "code",
   "execution_count": 57,
   "metadata": {},
   "outputs": [
    {
     "name": "stdout",
     "output_type": "stream",
     "text": [
      "e    4\n",
      "b    4\n",
      "k    4\n",
      "a    4\n",
      "d    3\n",
      "h    3\n",
      "i    2\n",
      "c    2\n",
      "f    2\n",
      "g    2\n",
      "dtype: int64\n",
      "0         b\n",
      "1         b\n",
      "2     Other\n",
      "3     Other\n",
      "4         e\n",
      "5     Other\n",
      "6     Other\n",
      "7     Other\n",
      "8     Other\n",
      "9     Other\n",
      "10    Other\n",
      "11    Other\n",
      "12        e\n",
      "13        e\n",
      "14    Other\n",
      "15    Other\n",
      "16    Other\n",
      "17        b\n",
      "18        b\n",
      "19    Other\n",
      "20    Other\n",
      "21    Other\n",
      "22        e\n",
      "23    Other\n",
      "24    Other\n",
      "25    Other\n",
      "26    Other\n",
      "27    Other\n",
      "28    Other\n",
      "29    Other\n",
      "dtype: object\n"
     ]
    }
   ],
   "source": [
    "data='abcdefghik'\n",
    "len_series=30\n",
    "x=pd.Series(np.take(list(data), np.random.randint(len(data), size=len_series)))\n",
    "print(x.value_counts())\n",
    "x[~x.isin(x.value_counts().index[:2])] = 'Other'\n",
    "print(x)"
   ]
  },
  {
   "cell_type": "markdown",
   "metadata": {},
   "source": [
    "Создать объект Series в индексах дата каждый день 2019 года, в значениях случайное значение"
   ]
  },
  {
   "cell_type": "code",
   "execution_count": 7,
   "metadata": {},
   "outputs": [
    {
     "name": "stdout",
     "output_type": "stream",
     "text": [
      "2019-01-01    0.534247\n",
      "2019-01-02    0.589179\n",
      "2019-01-03    0.814931\n",
      "2019-01-04    0.383411\n",
      "2019-01-05    0.176373\n",
      "                ...   \n",
      "2019-12-27    0.861208\n",
      "2019-12-28    0.738458\n",
      "2019-12-29    0.134971\n",
      "2019-12-30    0.256372\n",
      "2019-12-31    0.735867\n",
      "Length: 365, dtype: float64\n"
     ]
    }
   ],
   "source": [
    "x = pd.Series(pd.date_range(start='2019-01-01', end='2019-12-31', freq='D')) \n",
    "y = pd.Series(np.random.rand(len(x)), index=x)\n",
    "print(y)"
   ]
  },
  {
   "cell_type": "markdown",
   "metadata": {},
   "source": [
    "Найти сумму всех вторников"
   ]
  },
  {
   "cell_type": "code",
   "execution_count": 8,
   "metadata": {},
   "outputs": [
    {
     "name": "stdout",
     "output_type": "stream",
     "text": [
      "Сумма всех вторников = 22.89198919178515\n",
      "\n"
     ]
    }
   ],
   "source": [
    "ans1 = y[y.index.weekday == 2].sum()\n",
    "print('Сумма всех вторников =', ans1)\n",
    "print()"
   ]
  },
  {
   "cell_type": "markdown",
   "metadata": {},
   "source": [
    "Для каждого месяца найти среднее значение"
   ]
  },
  {
   "cell_type": "code",
   "execution_count": 9,
   "metadata": {},
   "outputs": [
    {
     "name": "stdout",
     "output_type": "stream",
     "text": [
      "Среднее = 2019-01-31    0.444537\n",
      "2019-02-28    0.552651\n",
      "2019-03-31    0.432992\n",
      "2019-04-30    0.376895\n",
      "2019-05-31    0.461805\n",
      "2019-06-30    0.431908\n",
      "2019-07-31    0.479550\n",
      "2019-08-31    0.478881\n",
      "2019-09-30    0.452954\n",
      "2019-10-31    0.527409\n",
      "2019-11-30    0.576384\n",
      "2019-12-31    0.438491\n",
      "Freq: M, dtype: float64\n"
     ]
    }
   ],
   "source": [
    "mean=y.resample('M').mean()\n",
    "print('Среднее =',mean)"
   ]
  },
  {
   "cell_type": "markdown",
   "metadata": {},
   "source": [
    "Преобразовать объект Series в DataFrame заданной формы (shape)"
   ]
  },
  {
   "cell_type": "code",
   "execution_count": 8,
   "metadata": {},
   "outputs": [
    {
     "name": "stdout",
     "output_type": "stream",
     "text": [
      "0     7\n",
      "1     6\n",
      "2     1\n",
      "3     6\n",
      "4     2\n",
      "5     5\n",
      "6     7\n",
      "7     5\n",
      "8     7\n",
      "9     2\n",
      "10    7\n",
      "11    2\n",
      "12    7\n",
      "13    1\n",
      "14    4\n",
      "15    2\n",
      "16    8\n",
      "17    6\n",
      "18    3\n",
      "19    6\n",
      "20    3\n",
      "21    2\n",
      "22    5\n",
      "23    8\n",
      "24    5\n",
      "25    9\n",
      "26    8\n",
      "27    6\n",
      "28    7\n",
      "29    1\n",
      "30    9\n",
      "31    9\n",
      "32    1\n",
      "33    5\n",
      "34    3\n",
      "dtype: int32\n",
      "[7 6 1 6 2 5 7 5 7 2 7 2 7 1 4 2 8 6 3 6 3 2 5 8 5 9 8 6 7 1 9 9 1 5 3]\n",
      "   0  1  2  3  4\n",
      "0  7  6  1  6  2\n",
      "1  5  7  5  7  2\n",
      "2  7  2  7  1  4\n",
      "3  2  8  6  3  6\n",
      "4  3  2  5  8  5\n",
      "5  9  8  6  7  1\n",
      "6  9  9  1  5  3\n"
     ]
    }
   ],
   "source": [
    "x=pd.Series(np.random.randint(low=1, high=10, size=[35]))\n",
    "print(x)\n",
    "y=(7, 5)\n",
    "z=pd.DataFrame(x.values.reshape(y))\n",
    "print(z)"
   ]
  },
  {
   "cell_type": "markdown",
   "metadata": {},
   "source": [
    "Найти индексы объекта Series кратные 3"
   ]
  },
  {
   "cell_type": "code",
   "execution_count": 10,
   "metadata": {},
   "outputs": [
    {
     "name": "stdout",
     "output_type": "stream",
     "text": [
      "[2 5 8]\n"
     ]
    }
   ],
   "source": [
    "x=pd.Series([1,2,3,4,5,6,7,8,9])\n",
    "y=np.where(x%3==0)[0]\n",
    "print(y)"
   ]
  },
  {
   "cell_type": "markdown",
   "metadata": {},
   "source": [
    "Получить данные по индексам объекта Series"
   ]
  },
  {
   "cell_type": "code",
   "execution_count": 12,
   "metadata": {},
   "outputs": [
    {
     "name": "stdout",
     "output_type": "stream",
     "text": [
      "0     f\n",
      "4     g\n",
      "8     d\n",
      "14    f\n",
      "20    h\n",
      "10    g\n",
      "dtype: object\n"
     ]
    }
   ],
   "source": [
    "u= pd.Series(list('fdgdgdfgdhgfhgfhgvgfhfg'))\n",
    "p = [0, 4, 8, 14, 20, 10]\n",
    "print(u[p]) "
   ]
  },
  {
   "cell_type": "markdown",
   "metadata": {},
   "source": [
    "Объединить два объекта Series вертикально и горизонтально"
   ]
  },
  {
   "cell_type": "code",
   "execution_count": 75,
   "metadata": {},
   "outputs": [
    {
     "name": "stdout",
     "output_type": "stream",
     "text": [
      "   0  1\n",
      "0  0  a\n",
      "1  1  b\n",
      "2  2  c\n",
      "3  3  d\n",
      "4  4  e\n"
     ]
    }
   ],
   "source": [
    "a = pd.Series(range(5))\n",
    "b = pd.Series(list('abcde'))\n",
    "c = pd.concat([a, b],axis=1)\n",
    "print(c)"
   ]
  },
  {
   "cell_type": "markdown",
   "metadata": {},
   "source": [
    "Получить индексы объекта Series A, данные которых содержатся в объетке Series B"
   ]
  },
  {
   "cell_type": "code",
   "execution_count": 4,
   "metadata": {},
   "outputs": [
    {
     "name": "stdout",
     "output_type": "stream",
     "text": [
      "[0 1 2 3 4 6 7]\n"
     ]
    }
   ],
   "source": [
    "A=pd.Series([1,4,2,6,7,8,3,2,9])\n",
    "B=pd.Series([0,6,7,3,2,1,4,5,3])\n",
    "Z=np.where(A.isin(B))[0]\n",
    "print(Z)"
   ]
  },
  {
   "cell_type": "markdown",
   "metadata": {},
   "source": [
    "Получить объект Series B, котоырй содержит элементы без повторений объекта A"
   ]
  },
  {
   "cell_type": "code",
   "execution_count": 26,
   "metadata": {},
   "outputs": [
    {
     "name": "stdout",
     "output_type": "stream",
     "text": [
      "0    1\n",
      "1    4\n",
      "2    2\n",
      "3    6\n",
      "4    7\n",
      "5    8\n",
      "6    3\n",
      "7    9\n",
      "dtype: int64\n"
     ]
    }
   ],
   "source": [
    "A=pd.Series([1,4,2,6,7,8,3,2,9,3,9])\n",
    "B=pd.Series(A.unique())\n",
    "print(B)"
   ]
  },
  {
   "cell_type": "markdown",
   "metadata": {},
   "source": [
    "Преобразовать каждый символ объекта Series в верхний регистр"
   ]
  },
  {
   "cell_type": "code",
   "execution_count": 35,
   "metadata": {},
   "outputs": [
    {
     "name": "stdout",
     "output_type": "stream",
     "text": [
      "0    D\n",
      "1    F\n",
      "2    A\n",
      "dtype: object\n"
     ]
    }
   ],
   "source": [
    "x=pd.Series(['d','f','a'])\n",
    "z = pd.Series(i.title() for i in x)\n",
    "print(z)"
   ]
  },
  {
   "cell_type": "markdown",
   "metadata": {},
   "source": [
    "Преобразовать данных Series в строку"
   ]
  },
  {
   "cell_type": "code",
   "execution_count": 38,
   "metadata": {},
   "outputs": [
    {
     "name": "stdout",
     "output_type": "stream",
     "text": [
      "dfa\n"
     ]
    }
   ],
   "source": [
    "x=pd.Series(['d','f','a'])\n",
    "y=''.join(x)\n",
    "print(y)"
   ]
  },
  {
   "cell_type": "markdown",
   "metadata": {},
   "source": [
    "Рассчитать количество символов в объекте Series"
   ]
  },
  {
   "cell_type": "code",
   "execution_count": 48,
   "metadata": {},
   "outputs": [
    {
     "name": "stdout",
     "output_type": "stream",
     "text": [
      "0    dakldasklsdaklj\n",
      "dtype: object\n",
      "0    15\n",
      "dtype: int64\n",
      "dakldasklsdaklj\n"
     ]
    }
   ],
   "source": [
    "x=pd.Series('dakldasklsdaklj')\n",
    "print(x)\n",
    "y=pd.Series(len(i) for i in x)\n",
    "print(y)\n",
    "z=''.join(x)\n",
    "print(z)"
   ]
  },
  {
   "cell_type": "markdown",
   "metadata": {},
   "source": [
    "Найти разность между объектом Series и смещением объекта Series на n"
   ]
  },
  {
   "cell_type": "code",
   "execution_count": 49,
   "metadata": {},
   "outputs": [
    {
     "name": "stdout",
     "output_type": "stream",
     "text": [
      "0     NaN\n",
      "1     NaN\n",
      "2     3.0\n",
      "3     3.0\n",
      "4     2.0\n",
      "5     8.0\n",
      "6    -2.0\n",
      "7    22.0\n",
      "8     6.0\n",
      "dtype: float64\n"
     ]
    }
   ],
   "source": [
    "x=pd.Series([1,2,4,5,6,13,4,35,10])\n",
    "n=2\n",
    "y=x.diff(periods=n)\n",
    "print(y)"
   ]
  },
  {
   "cell_type": "markdown",
   "metadata": {},
   "source": [
    "Преобразовать разные форматы строк объекта Series в дату"
   ]
  },
  {
   "cell_type": "code",
   "execution_count": 104,
   "metadata": {},
   "outputs": [
    {
     "name": "stdout",
     "output_type": "stream",
     "text": [
      "0   2018-02-09\n",
      "1   2020-10-04\n",
      "2   2019-12-15\n",
      "dtype: datetime64[ns]\n"
     ]
    }
   ],
   "source": [
    "x=pd.Series(['2018-02-09', '10.04.2020', '2019 15 Dec'])\n",
    "print(pd.to_datetime(x))"
   ]
  },
  {
   "cell_type": "markdown",
   "metadata": {},
   "source": [
    "Поскольку работа с датой часто встречается в работе, то см. еще один пример\n",
    "все данные должны иметь одинаковый формат (часто бывает выгрузка из SQL)"
   ]
  },
  {
   "cell_type": "code",
   "execution_count": 84,
   "metadata": {},
   "outputs": [
    {
     "name": "stdout",
     "output_type": "stream",
     "text": [
      "0   2018-09-09\n",
      "1   2012-04-06\n",
      "2   2013-12-12\n",
      "3   2015-11-11\n",
      "dtype: datetime64[ns]\n"
     ]
    }
   ],
   "source": [
    "x=pd.Series(['2018.09.09','2012.04.06','2013.12.12','2015.11.11'])\n",
    "y=pd.to_datetime(x,format='%Y.%m.%d')\n",
    "print(y)"
   ]
  },
  {
   "cell_type": "markdown",
   "metadata": {},
   "source": [
    "Получить год, месяц, день, день недели, номер дня в году от объекта Series (string). Распарсить в дату и время"
   ]
  },
  {
   "cell_type": "code",
   "execution_count": 99,
   "metadata": {},
   "outputs": [
    {
     "name": "stdout",
     "output_type": "stream",
     "text": [
      "0   2018-11-18\n",
      "1   2016-04-25\n",
      "2   2013-11-11\n",
      "3   2012-12-12\n",
      "dtype: datetime64[ns]\n",
      "0    2018\n",
      "1    2016\n",
      "2    2013\n",
      "3    2012\n",
      "dtype: int64\n",
      "0    11\n",
      "1     4\n",
      "2    11\n",
      "3    12\n",
      "dtype: int64\n",
      "0    18\n",
      "1    25\n",
      "2    11\n",
      "3    12\n",
      "dtype: int64\n",
      "0    46\n",
      "1    17\n",
      "2    46\n",
      "3    50\n",
      "dtype: int64\n",
      "0    322\n",
      "1    116\n",
      "2    315\n",
      "3    347\n",
      "dtype: int64\n"
     ]
    }
   ],
   "source": [
    "from dateutil.parser import parse\n",
    "x=pd.Series(['2018.11.18','2016.04.25','2013.11.11','2012.12.12'])\n",
    "y=x.map(lambda z:parse(z, yearfirst=True))\n",
    "print(y)\n",
    "print(y.dt.year)\n",
    "print(y.dt.month)\n",
    "print(y.dt.day)\n",
    "print(y.dt.weekofyear)\n",
    "print(y.dt.dayofyear)"
   ]
  },
  {
   "cell_type": "markdown",
   "metadata": {},
   "source": [
    "Отобрать элементы объекта Series, кторые содержат не менее двух гласных"
   ]
  },
  {
   "cell_type": "code",
   "execution_count": 33,
   "metadata": {},
   "outputs": [
    {
     "name": "stdout",
     "output_type": "stream",
     "text": [
      "0    hihihihi\n",
      "1        abso\n",
      "3        cape\n",
      "dtype: object\n"
     ]
    }
   ],
   "source": [
    "from collections import Counter\n",
    " \n",
    "s = pd.Series(['hihihihi', 'abso', 'dom', 'cape'])\n",
    "mask = s.map(lambda x: sum([Counter(x.lower()).get(i, 0) for i in list('aeiouаоиеёэыуюя')]) >= 2)\n",
    "ans = s[mask]\n",
    "print(ans)"
   ]
  },
  {
   "cell_type": "markdown",
   "metadata": {},
   "source": [
    "Отобрать e-маилы из объекта Series (можно юзать регулярки)"
   ]
  },
  {
   "cell_type": "code",
   "execution_count": 37,
   "metadata": {},
   "outputs": [
    {
     "name": "stdout",
     "output_type": "stream",
     "text": [
      "1    test@mail.ru\n",
      "dtype: object\n"
     ]
    }
   ],
   "source": [
    "import re\n",
    " \n",
    "emails = pd.Series(['test text @test.com', 'test@mail.ru', 'test.2ru', 'test@pp'])\n",
    "pattern = '[A-Za-z0-9._%+-]+@[A-Za-z0-9.-]+\\\\.[A-Za-z]{2,4}'\n",
    "mask = emails.map(lambda x: bool(re.match(pattern, x)))\n",
    "ans = emails[mask]\n",
    "print(ans)"
   ]
  },
  {
   "cell_type": "markdown",
   "metadata": {},
   "source": [
    "Получить среднее значение каждого уникального объекта Series s1 через \"маску\" другого объекта Series s2"
   ]
  },
  {
   "cell_type": "code",
   "execution_count": 82,
   "metadata": {},
   "outputs": [
    {
     "name": "stdout",
     "output_type": "stream",
     "text": [
      "0      dog\n",
      "1      dog\n",
      "2      dog\n",
      "3      cat\n",
      "4      dog\n",
      "5     bird\n",
      "6    horse\n",
      "7      cat\n",
      "8    horse\n",
      "9      dog\n",
      "dtype: object\n",
      "0     1.0\n",
      "1     2.0\n",
      "2     3.0\n",
      "3     4.0\n",
      "4     5.0\n",
      "5     6.0\n",
      "6     7.0\n",
      "7     8.0\n",
      "8     9.0\n",
      "9    10.0\n",
      "dtype: float64\n",
      "0                        (bird, [6.0])\n",
      "1                    (cat, [4.0, 8.0])\n",
      "2    (dog, [1.0, 2.0, 3.0, 5.0, 10.0])\n",
      "3                  (horse, [7.0, 9.0])\n",
      "dtype: object\n",
      "bird     6.0\n",
      "cat      6.0\n",
      "dog      4.2\n",
      "horse    8.0\n",
      "dtype: float64\n"
     ]
    }
   ],
   "source": [
    "n = 10\n",
    "x = pd.Series(np.random.choice(['dog', 'cat', 'horse', 'bird'], n))\n",
    "print(x)\n",
    "y = pd.Series(np.linspace(1,n,n))\n",
    "print(y)\n",
    "z = y.groupby(x)\n",
    "k=pd.Series(y.groupby(x))\n",
    "print(k)\n",
    "y=z.mean()\n",
    "print(y)"
   ]
  },
  {
   "cell_type": "code",
   "execution_count": null,
   "metadata": {},
   "outputs": [],
   "source": []
  }
 ],
 "metadata": {
  "kernelspec": {
   "display_name": "Python 3",
   "language": "python",
   "name": "python3"
  },
  "language_info": {
   "codemirror_mode": {
    "name": "ipython",
    "version": 3
   },
   "file_extension": ".py",
   "mimetype": "text/x-python",
   "name": "python",
   "nbconvert_exporter": "python",
   "pygments_lexer": "ipython3",
   "version": "3.7.6"
  }
 },
 "nbformat": 4,
 "nbformat_minor": 4
}
