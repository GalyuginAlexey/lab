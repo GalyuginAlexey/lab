{
 "cells": [
  {
   "cell_type": "code",
   "execution_count": 2,
   "metadata": {},
   "outputs": [],
   "source": [
    "import numpy as np\n",
    "import matplotlib.pyplot as plt"
   ]
  },
  {
   "cell_type": "code",
   "execution_count": 20,
   "metadata": {},
   "outputs": [
    {
     "name": "stdout",
     "output_type": "stream",
     "text": [
      "1\n"
     ]
    },
    {
     "data": {
      "text/plain": [
       "(0.9999999999999999, 0.3515086364077096)"
      ]
     },
     "execution_count": 20,
     "metadata": {},
     "output_type": "execute_result"
    },
    {
     "data": {
      "image/png": "[encoded data removed]",
      "text/plain": [
       "<Figure size 432x288 with 1 Axes>"
      ]
     },
     "metadata": {
      "needs_background": "light"
     },
     "output_type": "display_data"
    }
   ],
   "source": [
    "x=[]\n",
    "y=[]\n",
    "def f(x,y):\n",
    "    return x*x-2*y\n",
    "j=float(input())\n",
    "def runge_kutt(x_0,y_0,h):\n",
    "    fig = plt.figure()\n",
    "    ax = fig.add_subplot(111)\n",
    "    while (x_0<j-0.05):\n",
    "        k_1=f(x_0,y_0)\n",
    "        k_2=f(x_0+h/2,y_0+(h*k_1)/2)\n",
    "        k_3=f(x_0+h/2,y_0+(h*k_2)/2)\n",
    "        k_4=f(x_0+h,y_0+(h*k_3))\n",
    "        deltay=h/6*(k_1+2*k_2+2*k_3+k_4) \n",
    "        y_0=y_0+deltay\n",
    "        x_0=x_0+0.1\n",
    "        x.append(x_0)\n",
    "        y.append(y_0)\n",
    "        plt.plot(x,y)\n",
    "    k_1=f(x_0,y_0)\n",
    "    k_2=f(x_0+h/2,y_0+(h*k_1)/2)\n",
    "    k_3=f(x_0+h/2,y_0+(h*k_2)/2)\n",
    "    k_4=f(x_0+h,y_0+(h*k_3))    \n",
    "    return x_0,y_0\n",
    "runge_kutt(0,1,0.1)\n"
   ]
  },
  {
   "cell_type": "code",
   "execution_count": 4,
   "metadata": {},
   "outputs": [
    {
     "ename": "NameError",
     "evalue": "name 'ynew' is not defined",
     "output_type": "error",
     "traceback": [
      "\u001b[1;31m---------------------------------------------------------------------------\u001b[0m",
      "\u001b[1;31mNameError\u001b[0m                                 Traceback (most recent call last)",
      "\u001b[1;32m<ipython-input-4-dfdee45a0033>\u001b[0m in \u001b[0;36m<module>\u001b[1;34m\u001b[0m\n\u001b[0;32m     11\u001b[0m \u001b[0my\u001b[0m \u001b[1;33m=\u001b[0m \u001b[1;36m1\u001b[0m\u001b[1;33m\u001b[0m\u001b[1;33m\u001b[0m\u001b[0m\n\u001b[0;32m     12\u001b[0m \u001b[0mh\u001b[0m \u001b[1;33m=\u001b[0m \u001b[1;36m0.01\u001b[0m\u001b[1;33m\u001b[0m\u001b[1;33m\u001b[0m\u001b[0m\n\u001b[1;32m---> 13\u001b[1;33m \u001b[0mMRK4\u001b[0m\u001b[1;33m(\u001b[0m\u001b[0mx\u001b[0m\u001b[1;33m,\u001b[0m \u001b[0my\u001b[0m\u001b[1;33m,\u001b[0m \u001b[0mh\u001b[0m\u001b[1;33m,\u001b[0m \u001b[0mynew\u001b[0m\u001b[1;33m)\u001b[0m\u001b[1;33m\u001b[0m\u001b[1;33m\u001b[0m\u001b[0m\n\u001b[0m",
      "\u001b[1;31mNameError\u001b[0m: name 'ynew' is not defined"
     ]
    }
   ],
   "source": [
    "def MRK4(x, y, h):\n",
    "   \n",
    "    k1 = f(x,y)\n",
    "    k2 = f(x + h / 2, y + k1 * h / 2)\n",
    "    k3 = f(x + h / 2, y + k2 * h / 2)\n",
    "    k4 = f(x + h, y + h * k3)\n",
    "    ynew = y + (h / 6) * (k1 + 2 * k2 + 2 * k3 + k4)\n",
    "    return ynew\n",
    "\n",
    "x = 0\n",
    "y = 1\n",
    "h = 0.01\n",
    "MRK4(x, y, h, ynew)"
   ]
  },
  {
   "cell_type": "code",
   "execution_count": 46,
   "metadata": {},
   "outputs": [
    {
     "data": {
      "text/plain": [
       "-3.637650871868318e-09"
      ]
     },
     "execution_count": 46,
     "metadata": {},
     "output_type": "execute_result"
    }
   ],
   "source": [
    "t=0\n",
    "\n",
    "def f(d):\n",
    "    global t\n",
    "    fi=0.6\n",
    "    roparanastvozd=0.01729\n",
    "    ropartvozd=fi*roparanastvozd\n",
    "    rovozdtvozd=1.205 \n",
    "    yvapor=(ropartvozd/(ropartvozd+rovozdtvozd))\n",
    "    roparnastvoda=0.00484 \n",
    "    ropartvoda=fi*roparnastvoda\n",
    "    rovozdtvoda=1.293 \n",
    "    yvaporsattvoda=(roparnastvoda/(ropartvoda+rovozdtvoda))\n",
    "    Cvapor=1877\n",
    "    tvoda=0\n",
    "    tvozd=20\n",
    "    hlat=2493100\n",
    "    F=((yvaporsattvoda-yvapor)/(1-yvaporsattvoda))*(1/(1+Cvapor*((tvoda-tvozd)/hlat)))\n",
    "    upar=9.746*10**(-6)\n",
    "    uvozd=18.12*10**(-6)\n",
    "    uvozdpluspar=(yvaporsattvoda*upar+yvapor*uvozd)\n",
    "    vpar=563.7*10**(-6)\n",
    "    vvozd=15.06*10**(-6)\n",
    "    vvozdpluspar=(yvaporsattvoda*vpar+yvapor*vvozd)\n",
    "    rolda=918.9\n",
    "    C6=(2*uvozdpluspar*F)/(rolda)\n",
    "    t=(C6*(2+0.552*(d/uvozdpluspar)**(1/2)))/d\n",
    "    return t\n",
    "f(2)"
   ]
  },
  {
   "cell_type": "code",
   "execution_count": 32,
   "metadata": {},
   "outputs": [
    {
     "data": {
      "text/plain": [
       "12"
      ]
     },
     "execution_count": 32,
     "metadata": {},
     "output_type": "execute_result"
    }
   ],
   "source": [
    "y=0\n",
    "def f(x):\n",
    "    global y\n",
    "    y=3*x\n",
    "    return y\n",
    "f(4)\n",
    "    "
   ]
  },
  {
   "cell_type": "code",
   "execution_count": 44,
   "metadata": {},
   "outputs": [
    {
     "name": "stdout",
     "output_type": "stream",
     "text": [
      "0.001\n"
     ]
    }
   ],
   "source": [
    "x=10**(-3)\n",
    "print(x)"
   ]
  },
  {
   "cell_type": "code",
   "execution_count": 1,
   "metadata": {},
   "outputs": [
    {
     "name": "stdout",
     "output_type": "stream",
     "text": [
      "-0.004892465663423779\n"
     ]
    }
   ],
   "source": [
    " fi=0.6\n",
    "roparanastvozd=0.01729\n",
    "ropartvozd=fi*roparanastvozd\n",
    "rovozdtvozd=1.205 \n",
    "yvapor=(ropartvozd/(ropartvozd+rovozdtvozd))\n",
    "roparnastvoda=0.00484 \n",
    "ropartvoda=fi*roparnastvoda\n",
    "rovozdtvoda=1.293 \n",
    "yvaporsattvoda=(roparnastvoda/(ropartvoda+rovozdtvoda))\n",
    "Cvapor=1877\n",
    "tvoda=0\n",
    "tvozd=20\n",
    "hlat=2493100\n",
    "F=((yvaporsattvoda-yvapor)/(1-yvaporsattvoda))*(1/(1+Cvapor*((tvoda-tvozd)/hlat)))\n",
    "print(F)"
   ]
  },
  {
   "cell_type": "code",
   "execution_count": 26,
   "metadata": {},
   "outputs": [
    {
     "ename": "TypeError",
     "evalue": "unsupported operand type(s) for *: 'int' and 'NoneType'",
     "output_type": "error",
     "traceback": [
      "\u001b[1;31m---------------------------------------------------------------------------\u001b[0m",
      "\u001b[1;31mTypeError\u001b[0m                                 Traceback (most recent call last)",
      "\u001b[1;32m<ipython-input-26-d93097fe811d>\u001b[0m in \u001b[0;36m<module>\u001b[1;34m\u001b[0m\n\u001b[0;32m     45\u001b[0m     \u001b[0mk_4\u001b[0m\u001b[1;33m=\u001b[0m\u001b[0mfr\u001b[0m\u001b[1;33m(\u001b[0m\u001b[0mx_0\u001b[0m\u001b[1;33m+\u001b[0m\u001b[0mh\u001b[0m\u001b[1;33m,\u001b[0m\u001b[0my_0\u001b[0m\u001b[1;33m+\u001b[0m\u001b[1;33m(\u001b[0m\u001b[0mh\u001b[0m\u001b[1;33m*\u001b[0m\u001b[0mk_3\u001b[0m\u001b[1;33m)\u001b[0m\u001b[1;33m)\u001b[0m\u001b[1;33m\u001b[0m\u001b[1;33m\u001b[0m\u001b[0m\n\u001b[0;32m     46\u001b[0m     \u001b[1;32mreturn\u001b[0m \u001b[0mt\u001b[0m\u001b[1;33m,\u001b[0m\u001b[0md\u001b[0m\u001b[1;33m\u001b[0m\u001b[1;33m\u001b[0m\u001b[0m\n\u001b[1;32m---> 47\u001b[1;33m \u001b[0mrunge_kutt\u001b[0m\u001b[1;33m(\u001b[0m\u001b[1;36m0\u001b[0m\u001b[1;33m,\u001b[0m\u001b[1;36m2\u001b[0m\u001b[1;33m,\u001b[0m\u001b[1;36m500\u001b[0m\u001b[1;33m)\u001b[0m\u001b[1;33m\u001b[0m\u001b[1;33m\u001b[0m\u001b[0m\n\u001b[0m",
      "\u001b[1;32m<ipython-input-26-d93097fe811d>\u001b[0m in \u001b[0;36mrunge_kutt\u001b[1;34m(t, d, h)\u001b[0m\n\u001b[0;32m     31\u001b[0m     \u001b[1;32mwhile\u001b[0m \u001b[1;33m(\u001b[0m\u001b[0md\u001b[0m\u001b[1;33m>=\u001b[0m\u001b[1;36m1\u001b[0m\u001b[1;33m)\u001b[0m\u001b[1;33m:\u001b[0m\u001b[1;33m\u001b[0m\u001b[1;33m\u001b[0m\u001b[0m\n\u001b[0;32m     32\u001b[0m         \u001b[0mk_1\u001b[0m\u001b[1;33m=\u001b[0m\u001b[0mfr\u001b[0m\u001b[1;33m(\u001b[0m\u001b[0mt\u001b[0m\u001b[1;33m,\u001b[0m\u001b[0md\u001b[0m\u001b[1;33m)\u001b[0m\u001b[1;33m\u001b[0m\u001b[1;33m\u001b[0m\u001b[0m\n\u001b[1;32m---> 33\u001b[1;33m         \u001b[0mk_2\u001b[0m\u001b[1;33m=\u001b[0m\u001b[0mfr\u001b[0m\u001b[1;33m(\u001b[0m\u001b[0mt\u001b[0m\u001b[1;33m+\u001b[0m\u001b[0mh\u001b[0m\u001b[1;33m/\u001b[0m\u001b[1;36m2\u001b[0m\u001b[1;33m,\u001b[0m\u001b[0md\u001b[0m\u001b[1;33m+\u001b[0m\u001b[1;33m(\u001b[0m\u001b[0mh\u001b[0m\u001b[1;33m*\u001b[0m\u001b[0mk_1\u001b[0m\u001b[1;33m)\u001b[0m\u001b[1;33m/\u001b[0m\u001b[1;36m2\u001b[0m\u001b[1;33m)\u001b[0m\u001b[1;33m\u001b[0m\u001b[1;33m\u001b[0m\u001b[0m\n\u001b[0m\u001b[0;32m     34\u001b[0m         \u001b[0mk_3\u001b[0m\u001b[1;33m=\u001b[0m\u001b[0mfr\u001b[0m\u001b[1;33m(\u001b[0m\u001b[0mt\u001b[0m\u001b[1;33m+\u001b[0m\u001b[0mh\u001b[0m\u001b[1;33m/\u001b[0m\u001b[1;36m2\u001b[0m\u001b[1;33m,\u001b[0m\u001b[0md\u001b[0m\u001b[1;33m+\u001b[0m\u001b[1;33m(\u001b[0m\u001b[0mh\u001b[0m\u001b[1;33m*\u001b[0m\u001b[0mk_2\u001b[0m\u001b[1;33m)\u001b[0m\u001b[1;33m/\u001b[0m\u001b[1;36m2\u001b[0m\u001b[1;33m)\u001b[0m\u001b[1;33m\u001b[0m\u001b[1;33m\u001b[0m\u001b[0m\n\u001b[0;32m     35\u001b[0m         \u001b[0mk_4\u001b[0m\u001b[1;33m=\u001b[0m\u001b[0mfr\u001b[0m\u001b[1;33m(\u001b[0m\u001b[0mt\u001b[0m\u001b[1;33m+\u001b[0m\u001b[0mh\u001b[0m\u001b[1;33m,\u001b[0m\u001b[0md\u001b[0m\u001b[1;33m+\u001b[0m\u001b[1;33m(\u001b[0m\u001b[0mh\u001b[0m\u001b[1;33m*\u001b[0m\u001b[0mk_3\u001b[0m\u001b[1;33m)\u001b[0m\u001b[1;33m)\u001b[0m\u001b[1;33m\u001b[0m\u001b[1;33m\u001b[0m\u001b[0m\n",
      "\u001b[1;31mTypeError\u001b[0m: unsupported operand type(s) for *: 'int' and 'NoneType'"
     ]
    },
    {
     "data": {
      "image/png": "[encoded data removed]",
      "text/plain": [
       "<Figure size 432x288 with 1 Axes>"
      ]
     },
     "metadata": {
      "needs_background": "light"
     },
     "output_type": "display_data"
    }
   ],
   "source": [
    "\n",
    "fi=0.6\n",
    "roparanastvozd=0.01729\n",
    "ropartvozd=fi*roparanastvozd\n",
    "rovozdtvozd=1.205 \n",
    "yvapor=(ropartvozd/(ropartvozd+rovozdtvozd))\n",
    "roparnastvoda=0.00484 \n",
    "ropartvoda=fi*roparnastvoda\n",
    "rovozdtvoda=1.293 \n",
    "yvaporsattvoda=(roparnastvoda/(ropartvoda+rovozdtvoda))\n",
    "Cvapor=1877\n",
    "tvoda=0\n",
    "tvozd=20\n",
    "hlat=2493100\n",
    "F=((yvaporsattvoda-yvapor)/(1-yvaporsattvoda))*(1/(1+Cvapor*((tvoda-tvozd)/hlat)))\n",
    "upar=9.746*10**(-6)\n",
    "uvozd=18.12*10**(-6)\n",
    "uvozdpluspar=(yvaporsattvoda*upar+yvapor*uvozd)\n",
    "vpar=563.7*10**(-6)\n",
    "vvozd=15.06*10**(-6)\n",
    "vvozdpluspar=(yvaporsattvoda*vpar+yvapor*vvozd)\n",
    "rolda=918.9\n",
    "C6=(2*uvozdpluspar*F)/(rolda)\n",
    "x=[]\n",
    "y=[]\n",
    "def fr(t,d):\n",
    "    (C6*(2+0.552*(d/uvozdpluspar)**(1/2)))/d\n",
    "def runge_kutt(t,d,h):\n",
    "    fig = plt.figure()\n",
    "    ax = fig.add_subplot(111)\n",
    "    while (d>=1):\n",
    "        k_1=fr(t,d)\n",
    "        k_2=fr(t+h/2,d+(h*k_1)/2)\n",
    "        k_3=fr(t+h/2,d+(h*k_2)/2)\n",
    "        k_4=fr(t+h,d+(h*k_3))\n",
    "        deltay=h/6*(k_1+2*k_2+2*k_3+k_4) \n",
    "        d=d+deltay\n",
    "        t=t+0.1\n",
    "        x.append(t)\n",
    "        y.append(d)\n",
    "        plt.plot(x,y)\n",
    "    k_1=fr(x_0,y_0)\n",
    "    k_2=fr(x_0+h/2,y_0+(h*k_1)/2)\n",
    "    k_3=fr(x_0+h/2,y_0+(h*k_2)/2)\n",
    "    k_4=fr(x_0+h,y_0+(h*k_3))    \n",
    "    return t,d\n",
    "runge_kutt(0,2,500)\n"
   ]
  },
  {
   "cell_type": "code",
   "execution_count": null,
   "metadata": {},
   "outputs": [],
   "source": [
    "def f(x,y):\n",
    "    return 2*y\n",
    "def runge_kutt(x_0,y_0,h):\n",
    "    fig = plt.figure()\n",
    "    ax = fig.add_subplot(111)\n",
    "    while (y_0<=1):\n",
    "        k_1=f(x_0,y_0)\n",
    "        k_2=f(x_0+h/2,y_0+(h*k_1)/2)\n",
    "        k_3=f(x_0+h/2,y_0+(h*k_2)/2)\n",
    "        k_4=f(x_0+h,y_0+(h*k_3))\n",
    "        deltay=h/6*(k_1+2*k_2+2*k_3+k_4) \n",
    "        y_0=y_0+deltay\n",
    "        x_0=x_0+0.1\n",
    "        x.append(x_0)\n",
    "        y.append(y_0)\n",
    "        plt.plot(x,y)\n",
    "    k_1=f(x_0,y_0)\n",
    "    k_2=f(x_0+h/2,y_0+(h*k_1)/2)\n",
    "    k_3=f(x_0+h/2,y_0+(h*k_2)/2)\n",
    "    k_4=f(x_0+h,y_0+(h*k_3))    \n",
    "    return x_0,y_0\n",
    "runge_kutt(0,1,500)"
   ]
  },
  {
   "cell_type": "code",
   "execution_count": null,
   "metadata": {},
   "outputs": [],
   "source": []
  }
 ],
 "metadata": {
  "kernelspec": {
   "display_name": "Python 3",
   "language": "python",
   "name": "python3"
  },
  "language_info": {
   "codemirror_mode": {
    "name": "ipython",
    "version": 3
   },
   "file_extension": ".py",
   "mimetype": "text/x-python",
   "name": "python",
   "nbconvert_exporter": "python",
   "pygments_lexer": "ipython3",
   "version": "3.7.6"
  }
 },
 "nbformat": 4,
 "nbformat_minor": 4
}
