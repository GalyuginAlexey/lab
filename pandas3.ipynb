{
 "cells": [
  {
   "cell_type": "markdown",
   "metadata": {},
   "source": [
    "Московский Авиационный Институт  \n",
    "                                  (Национальный Исследовательский Университет)  \n",
    "\n",
    "\n",
    "\n",
    "Кафедра 806 «Вычислительная математика и программирование»  \n",
    "Институт: «Информационные технологии и прикладная математика»  \n",
    "Дисциплина: «Разработка ПО для высокопроизводительных систем»        \n",
    "\n",
    "\n",
    "\n",
    "                                        -------------------------------\n",
    "                                        Лабораторная работа по pandas №3  \n",
    "                                        -------------------------------    \n",
    "\n",
    "\n",
    "\n",
    "                                                                            Группа: М8О-103М-20  \n",
    "                                                                            Студент: Галюгин Алексей Дмитриевич  \n",
    "                                                                            Преподаватель: Поповкин Александр Викторович  \n",
    "\n",
    "\n",
    "\n",
    "                                                 Москва, 2020  "
   ]
  },
  {
   "cell_type": "code",
   "execution_count": 2,
   "metadata": {},
   "outputs": [],
   "source": [
    "import sys\n",
    "import numpy as np\n",
    "import pandas as pd"
   ]
  },
  {
   "cell_type": "markdown",
   "metadata": {},
   "source": [
    "Найти евклидово расстоняие между двумя объектами Series"
   ]
  },
  {
   "cell_type": "code",
   "execution_count": 11,
   "metadata": {},
   "outputs": [
    {
     "name": "stdout",
     "output_type": "stream",
     "text": [
      "0    1\n",
      "1    2\n",
      "2    3\n",
      "3    4\n",
      "4    5\n",
      "5    6\n",
      "dtype: int32\n",
      "0    0\n",
      "1    2\n",
      "2    3\n",
      "3    4\n",
      "4    5\n",
      "5    7\n",
      "dtype: int32\n",
      "1.4142135623730951\n"
     ]
    }
   ],
   "source": [
    "from scipy.spatial import distance\n",
    "n=3\n",
    "s1=pd.Series(np.array([1, 2, 3, 4, 5, 6]))\n",
    "s2=pd.Series(np.array([0, 2, 3, 4, 5, 7]))\n",
    "print(s1)\n",
    "print(s2)\n",
    "ans1 = sum((s1-s2)**2)**0.5\n",
    "print(ans1)"
   ]
  },
  {
   "cell_type": "markdown",
   "metadata": {},
   "source": [
    "Найти индексы локальных максимумов в объекте Series"
   ]
  },
  {
   "cell_type": "code",
   "execution_count": 4,
   "metadata": {},
   "outputs": [
    {
     "name": "stdout",
     "output_type": "stream",
     "text": [
      "[ 4  2  4 -3 -4  8 -7  3  8 -8]\n",
      "[ 1  1  1 -1 -1  1 -1  1  1 -1]\n",
      "[ 0  0 -2  0  2 -2  2  0 -2]\n",
      "[3 6 9]\n"
     ]
    }
   ],
   "source": [
    "s=pd.Series([1, 5, 7, 11, 8, 4, 12, 5, 8, 16, 8])\n",
    "x=np.diff(s)\n",
    "y=np.sign(x)\n",
    "z=np.diff(y)\n",
    "print(x)\n",
    "print(y)\n",
    "print(z)\n",
    "ans = np.where(z == -2)[0]+1\n",
    "print(ans)"
   ]
  },
  {
   "cell_type": "markdown",
   "metadata": {},
   "source": [
    "Заменить пробелы наименее часто встречающимся символов"
   ]
  },
  {
   "cell_type": "code",
   "execution_count": 31,
   "metadata": {},
   "outputs": [
    {
     "name": "stdout",
     "output_type": "stream",
     "text": [
      "b    4\n",
      "     3\n",
      "e    3\n",
      "r    2\n",
      "k    2\n",
      "a    1\n",
      "n    1\n",
      "d    1\n",
      "dtype: int64\n",
      "d\n",
      "bnbdberdkekbddare\n"
     ]
    }
   ],
   "source": [
    "str_test = 'bnb ber kekb dare'\n",
    " \n",
    "s = pd.Series(list(str_test))\n",
    "freq = s.value_counts()\n",
    "print(freq)\n",
    "least_freq = freq.dropna().index[-1]\n",
    "print(least_freq)\n",
    "str_test=''.join(s.replace(' ', least_freq))\n",
    "print(str_test)"
   ]
  },
  {
   "cell_type": "markdown",
   "metadata": {},
   "source": [
    " Создать объект Series, который содержит в индексах даты выходных дней субботы, а в значениях случайные числа от 1 до 10"
   ]
  },
  {
   "cell_type": "code",
   "execution_count": 35,
   "metadata": {},
   "outputs": [
    {
     "name": "stdout",
     "output_type": "stream",
     "text": [
      "2018-01-06    6\n",
      "2018-01-13    6\n",
      "2018-01-20    8\n",
      "2018-01-27    8\n",
      "2018-02-03    8\n",
      "2018-02-10    8\n",
      "2018-02-17    5\n",
      "2018-02-24    6\n",
      "2018-03-03    1\n",
      "2018-03-10    3\n",
      "Freq: W-SAT, dtype: int32\n"
     ]
    }
   ],
   "source": [
    "\n",
    "s=pd.Series(np.random.randint(low=1,high=10,size=[10]), pd.date_range('2018-01-01', periods=10, freq='W-SAT'))\n",
    "print(s)"
   ]
  },
  {
   "cell_type": "markdown",
   "metadata": {},
   "source": [
    "Заполнить пропущенные даты, значением выше (заполненной даты)"
   ]
  },
  {
   "cell_type": "code",
   "execution_count": 50,
   "metadata": {},
   "outputs": [
    {
     "name": "stdout",
     "output_type": "stream",
     "text": [
      "2018-01-01    2.0\n",
      "2018-01-03    5.0\n",
      "2018-01-06    8.0\n",
      "2018-01-08    NaN\n",
      "dtype: float64\n",
      "2018-01-01    2.0\n",
      "2018-01-02    2.0\n",
      "2018-01-03    5.0\n",
      "2018-01-04    5.0\n",
      "2018-01-05    5.0\n",
      "2018-01-06    8.0\n",
      "2018-01-07    8.0\n",
      "2018-01-08    NaN\n",
      "Freq: D, dtype: float64\n"
     ]
    }
   ],
   "source": [
    "s = pd.Series([2, 5, 8, np.nan], index=pd.to_datetime(['2018-01-01', '2018-01-03', '2018-01-06', '2018-01-08']))\n",
    "print(s)\n",
    "ans = s.resample('D').ffill()\n",
    "print(ans)"
   ]
  },
  {
   "cell_type": "markdown",
   "metadata": {},
   "source": [
    "Вычислить автокорреляцию объекта Series"
   ]
  },
  {
   "cell_type": "code",
   "execution_count": 55,
   "metadata": {},
   "outputs": [
    {
     "name": "stdout",
     "output_type": "stream",
     "text": [
      "0.7504132682558335\n"
     ]
    }
   ],
   "source": [
    "n=20\n",
    " \n",
    "s=pd.Series(np.arange(n))\n",
    "s=s + np.random.normal(1, 3, n)\n",
    "k=s.autocorr()\n",
    "print(k)"
   ]
  },
  {
   "cell_type": "code",
   "execution_count": null,
   "metadata": {},
   "outputs": [],
   "source": []
  }
 ],
 "metadata": {
  "kernelspec": {
   "display_name": "Python 3",
   "language": "python",
   "name": "python3"
  },
  "language_info": {
   "codemirror_mode": {
    "name": "ipython",
    "version": 3
   },
   "file_extension": ".py",
   "mimetype": "text/x-python",
   "name": "python",
   "nbconvert_exporter": "python",
   "pygments_lexer": "ipython3",
   "version": "3.7.6"
  }
 },
 "nbformat": 4,
 "nbformat_minor": 4
}
